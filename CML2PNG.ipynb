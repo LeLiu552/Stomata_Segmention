{
 "cells": [
  {
   "cell_type": "code",
   "execution_count": 1,
   "id": "ad513488-89d6-4eca-8ffd-3161fe179b8d",
   "metadata": {
    "tags": []
   },
   "outputs": [
    {
     "name": "stdout",
     "output_type": "stream",
     "text": [
      "Requirement already satisfied: czifile in /Users/houlinyu/anaconda3/lib/python3.11/site-packages (2019.7.2)\n",
      "Requirement already satisfied: numpy>=1.11.3 in /Users/houlinyu/anaconda3/lib/python3.11/site-packages (from czifile) (1.24.3)\n",
      "Requirement already satisfied: tifffile>=2019.7.2 in /Users/houlinyu/anaconda3/lib/python3.11/site-packages (from czifile) (2021.7.2)\n"
     ]
    }
   ],
   "source": [
    "!pip install czifile\n",
    "import czifile\n",
    "from skimage import io"
   ]
  },
  {
   "cell_type": "code",
   "execution_count": 6,
   "id": "91449260-f2bd-47e1-8fe6-ba831b594a3c",
   "metadata": {
    "tags": []
   },
   "outputs": [
    {
     "name": "stdout",
     "output_type": "stream",
     "text": [
      "['NC358_3.czi', 'NC358_1.czi', 'CML103_4.czi', 'CML103_5.czi', 'NC358_4.czi', 'CML103_1.czi', 'NC358_5.czi', 'CML103_2.czi', 'CML103_3.czi', 'NC358_6.czi', 'Mo17_1.czi', 'Mo17_2.czi', 'Mo17_5.czi', 'Mo17_4.czi', 'CML228_1.czi', 'P39Gb_1.czi', 'P39Gb_3.czi', 'Ms71_4.czi', 'CML228_2.czi', 'P39Gb_2.czi', 'P39Gb_6.czi', 'B73_6.czi', 'CML228_6.czi', 'P39Gb_5.czi', 'CML228_5.czi', 'CML228_4.czi', 'P39Gb_4.czi']\n"
     ]
    }
   ],
   "source": [
    "from PIL import Image\n",
    "from glob import glob\n",
    "import os\n",
    "os.listdir()\n",
    "myDir = './week3sample/'\n",
    "pic_list = os.listdir(myDir)\n",
    "pic_list = [file for file in os.listdir(myDir) if file.endswith('.czi')]\n",
    " \n",
    "print(pic_list)\n"
   ]
  },
  {
   "cell_type": "code",
   "execution_count": 7,
   "id": "171d5492-eca4-4139-be17-28489a1a79ff",
   "metadata": {
    "tags": []
   },
   "outputs": [
    {
     "data": {
      "text/plain": [
       "'/Users/houlinyu/Desktop'"
      ]
     },
     "execution_count": 7,
     "metadata": {},
     "output_type": "execute_result"
    }
   ],
   "source": [
    "os.getcwd()"
   ]
  },
  {
   "cell_type": "code",
   "execution_count": 8,
   "id": "4398114c-5ea1-466b-8ab2-d2e201ee5486",
   "metadata": {
    "tags": []
   },
   "outputs": [
    {
     "name": "stdout",
     "output_type": "stream",
     "text": [
      "./week3sample/.ipynb_checkpoints/Untitled-checkpoint.ipynb\n",
      "./week3sample/CML228_1.czi.png\n",
      "./week3sample/CML103_1.czi.png\n",
      "./week3sample/NC358_3.czi\n",
      "./week3sample/NC358_1.czi\n",
      "./week3sample/P39Gb_3.czi.png\n",
      "./week3sample/CML103_4.czi\n",
      "./week3sample/CML103_5.czi\n",
      "./week3sample/NC358_3.czi.png\n",
      "./week3sample/NC358_4.czi\n",
      "./week3sample/P39Gb_2.czi.png\n",
      "./week3sample/.DS_Store\n",
      "./week3sample/CML103_1.czi\n",
      "./week3sample/NC358_5.czi\n",
      "./week3sample/CML103_2.czi\n",
      "./week3sample/CML103_3.czi\n",
      "./week3sample/NC358_6.czi\n",
      "./week3sample/Untitled.ipynb\n",
      "./week3sample/Mo17_4.czi.png\n",
      "./week3sample/CML228_2.czi.png\n",
      "./week3sample/CML103_2.czi.png\n",
      "./week3sample/CML103_3.czi.png\n",
      "./week3sample/Mo17_5.czi.png\n",
      "./week3sample/P39Gb_1.czi.png\n",
      "./week3sample/NC358_1.czi.png\n",
      "./week3sample/NC358_4.czi.png\n",
      "./week3sample/Mo17_1.czi\n",
      "./week3sample/Mo17_2.czi\n",
      "./week3sample/CML228_6.czi.png\n",
      "./week3sample/NC358_5.czi.png\n",
      "./week3sample/Mo17_5.czi\n",
      "./week3sample/P39Gb_5.czi.png\n",
      "./week3sample/Mo17_1.czi.png\n",
      "./week3sample/Mo17_4.czi\n",
      "./week3sample/CML103_5.czi.png\n",
      "./week3sample/Ms71_4.czi.png\n",
      "./week3sample/CML228_1.czi\n",
      "./week3sample/CML228_5.czi.png\n",
      "./week3sample/P39Gb_1.czi\n",
      "./week3sample/P39Gb_3.czi\n",
      "./week3sample/Ms71_4.czi\n",
      "./week3sample/CML228_2.czi\n",
      "./week3sample/P39Gb_2.czi\n",
      "./week3sample/P39Gb_6.czi\n",
      "./week3sample/B73_6.czi\n",
      "./week3sample/NC358_6.czi.png\n",
      "./week3sample/CML228_6.czi\n",
      "./week3sample/Mo17_2.czi.png\n",
      "./week3sample/P39Gb_6.czi.png\n",
      "./week3sample/CML103_4.czi.png\n",
      "./week3sample/P39Gb_5.czi\n",
      "./week3sample/CML228_5.czi\n",
      "./week3sample/CML228_4.czi\n",
      "./week3sample/P39Gb_4.czi\n",
      "./week3sample/CML228_4.czi.png\n"
     ]
    }
   ],
   "source": [
    "###convert tif into png\n",
    "import os\n",
    "from PIL import Image\n",
    "\n",
    "yourpath = myDir\n",
    "for root, dirs, files in os.walk(yourpath, topdown=False):\n",
    "    for name in files:\n",
    "        print(os.path.join(root, name))\n",
    "        if os.path.splitext(os.path.join(root, name))[1].lower() == \".tif\":\n",
    "            if os.path.isfile(os.path.splitext(os.path.join(root, name))[0] + \".png\"):\n",
    "                print (\"A png file already exists for %s\" % name)\n",
    "            # If a PNG is *NOT* present, create one from the tiff.\n",
    "            else:\n",
    "                outfile = os.path.splitext(os.path.join(root, name))[0] + \".png\"\n",
    "                try:\n",
    "                    im = Image.open(os.path.join(root, name))\n",
    "                    print(\"Generating jpeg for %s\" % name)\n",
    "                    im.thumbnail(im.size)\n",
    "                    im.save(outfile, \"png\", quality=100)\n",
    "                except Exception as e:\n",
    "                    print (e)"
   ]
  },
  {
   "cell_type": "code",
   "execution_count": null,
   "id": "56a927ca-f217-43ad-8a86-f538844c6a78",
   "metadata": {},
   "outputs": [],
   "source": []
  }
 ],
 "metadata": {
  "kernelspec": {
   "display_name": "Python 3 (ipykernel)",
   "language": "python",
   "name": "python3"
  },
  "language_info": {
   "codemirror_mode": {
    "name": "ipython",
    "version": 3
   },
   "file_extension": ".py",
   "mimetype": "text/x-python",
   "name": "python",
   "nbconvert_exporter": "python",
   "pygments_lexer": "ipython3",
   "version": "3.11.4"
  }
 },
 "nbformat": 4,
 "nbformat_minor": 5
}
